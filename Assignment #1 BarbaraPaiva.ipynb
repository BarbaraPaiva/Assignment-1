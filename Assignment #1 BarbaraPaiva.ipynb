{
 "cells": [
  {
   "cell_type": "code",
   "execution_count": 2,
   "metadata": {},
   "outputs": [],
   "source": [
    "# Barbara Paiva\n",
    "# Assignment 1"
   ]
  },
  {
   "cell_type": "code",
   "execution_count": 69,
   "metadata": {},
   "outputs": [
    {
     "name": "stdout",
     "output_type": "stream",
     "text": [
      "9 th Fibonacci Number = 34\n"
     ]
    }
   ],
   "source": [
    "# Task 1\n",
    "\n",
    "# Python program for Nth fibonaci number\n",
    "# Function to find nth fibonaci number\n",
    "# Value of golden ratio\n",
    "PHI = 1.6180339\n",
    "\n",
    "# Fibonacci numbers to n = 5\n",
    "f = [ 0,1,1,2,3,5]\n",
    "\n",
    "# funtion to find nth\n",
    "# Fibonacci number\n",
    "def fib (n):\n",
    "    \n",
    "    # Fibonacci numbers for n < 6\n",
    "    if n < 6:\n",
    "        return f[n]\n",
    "\n",
    "    # else start counting from \n",
    "    # 5th term\n",
    "    t = 5\n",
    "    fn = 5\n",
    "\n",
    "    while t < n:\n",
    "        fn = round(fn * PHI)\n",
    "        t+=1\n",
    "    \n",
    "    return fn\n",
    "\n",
    "# driver code\n",
    "n = 9\n",
    "print(n, \"th Fibonacci Number =\", fib(n))"
   ]
  },
  {
   "cell_type": "code",
   "execution_count": 77,
   "metadata": {},
   "outputs": [],
   "source": [
    "# Task 2\n",
    "\n",
    "class Dog:\n",
    "    pass"
   ]
  },
  {
   "cell_type": "code",
   "execution_count": 79,
   "metadata": {},
   "outputs": [],
   "source": [
    "class Dog:\n",
    "    \n",
    "    # Initializer /  Instance Attributes\n",
    "    def __init__(self, name, age):\n",
    "        self.name = name\n",
    "        self.age = age"
   ]
  },
  {
   "cell_type": "code",
   "execution_count": 82,
   "metadata": {},
   "outputs": [],
   "source": [
    "class Dog:\n",
    "    \n",
    "    # Attribute\n",
    "    species = 'mammal'\n",
    "    \n",
    "    # initializer / instance attributes\n",
    "    def __init__(self, name, age):\n",
    "        self.name = name\n",
    "        self.age = age"
   ]
  },
  {
   "cell_type": "code",
   "execution_count": 83,
   "metadata": {},
   "outputs": [
    {
     "data": {
      "text/plain": [
       "<__main__.Dog at 0x1e21b84b588>"
      ]
     },
     "execution_count": 83,
     "metadata": {},
     "output_type": "execute_result"
    }
   ],
   "source": [
    ">>> class Dog:\n",
    "    pass\n",
    ">>> Dog()"
   ]
  },
  {
   "cell_type": "code",
   "execution_count": 85,
   "metadata": {},
   "outputs": [
    {
     "data": {
      "text/plain": [
       "<__main__.Dog at 0x1e21b7a85f8>"
      ]
     },
     "execution_count": 85,
     "metadata": {},
     "output_type": "execute_result"
    }
   ],
   "source": [
    ">>> Dog()"
   ]
  },
  {
   "cell_type": "code",
   "execution_count": 95,
   "metadata": {},
   "outputs": [
    {
     "data": {
      "text/plain": [
       "False"
      ]
     },
     "execution_count": 95,
     "metadata": {},
     "output_type": "execute_result"
    }
   ],
   "source": [
    ">>> a = Dog()\n",
    ">>> b = Dog()\n",
    ">>> a == b"
   ]
  },
  {
   "cell_type": "code",
   "execution_count": 114,
   "metadata": {},
   "outputs": [
    {
     "name": "stdout",
     "output_type": "stream",
     "text": [
      "Duke is 4 and Shadow is 13.\n",
      "Duke is a mammal!\n",
      "Shadow is a mammal!\n"
     ]
    }
   ],
   "source": [
    "class Dog:\n",
    "    # class attribute\n",
    "    species = 'mammal'\n",
    "    \n",
    "    # initializer / instance attributes\n",
    "    def __init__(self, name, age):\n",
    "        self.name = name\n",
    "        self.age = age\n",
    "        \n",
    "# instantiate the Dog object\n",
    "duke = Dog(\"Duke\", 4)\n",
    "shadow = Dog(\"Shadow\", 13)\n",
    "\n",
    "# Access the instance attributes\n",
    "print(\"{} is {} and {} is {}.\".format(\n",
    "    duke.name, duke.age, shadow.name, shadow.age))\n",
    "\n",
    "# is duke an animal?\n",
    "\n",
    "if duke.species == \"mammal\":\n",
    "    print( \"{0} is a {1}!\" .format(duke.name, duke.species))\n",
    "    \n",
    "if shadow.species == \"mammal\":\n",
    "    print( \"{0} is a {1}!\" .format(shadow.name, shadow.species))"
   ]
  },
  {
   "cell_type": "code",
   "execution_count": 136,
   "metadata": {},
   "outputs": [
    {
     "name": "stdout",
     "output_type": "stream",
     "text": [
      "shadow is 13 years old\n",
      "shadow runs slowly\n",
      "True\n",
      "True\n",
      "False\n"
     ]
    },
    {
     "ename": "TypeError",
     "evalue": "isinstance() arg 2 must be a type or tuple of types",
     "output_type": "error",
     "traceback": [
      "\u001b[1;31m---------------------------------------------------------------------------\u001b[0m",
      "\u001b[1;31mTypeError\u001b[0m                                 Traceback (most recent call last)",
      "\u001b[1;32m<ipython-input-136-711d47e28cb2>\u001b[0m in \u001b[0;36m<module>\u001b[1;34m\u001b[0m\n\u001b[0;32m     47\u001b[0m \u001b[1;33m\u001b[0m\u001b[0m\n\u001b[0;32m     48\u001b[0m \u001b[1;31m# is duke an instance of shadow?\u001b[0m\u001b[1;33m\u001b[0m\u001b[1;33m\u001b[0m\u001b[1;33m\u001b[0m\u001b[0m\n\u001b[1;32m---> 49\u001b[1;33m \u001b[0mprint\u001b[0m\u001b[1;33m(\u001b[0m\u001b[0misinstance\u001b[0m\u001b[1;33m(\u001b[0m\u001b[0mduke\u001b[0m\u001b[1;33m,\u001b[0m\u001b[0mshadow\u001b[0m\u001b[1;33m)\u001b[0m\u001b[1;33m)\u001b[0m\u001b[1;33m\u001b[0m\u001b[1;33m\u001b[0m\u001b[0m\n\u001b[0m",
      "\u001b[1;31mTypeError\u001b[0m: isinstance() arg 2 must be a type or tuple of types"
     ]
    }
   ],
   "source": [
    "# parent class\n",
    "class Dog:\n",
    "    \n",
    "    # class attribute\n",
    "    species = 'mammal'\n",
    "    \n",
    "    # initializer / instance attributes\n",
    "    def __init__(self, name, age):\n",
    "        self.name = name\n",
    "        self.age = age\n",
    "        \n",
    "    # instance method\n",
    "    def description(self):\n",
    "        return \"{} is {} years old\" .format(self.name, self.age)\n",
    "    \n",
    "    # instance method\n",
    "    def speak(self, sound):\n",
    "        return \"{} says {}\" .format(self.name, sound)\n",
    "    \n",
    "# child class (inherits from Dog() class)\n",
    "class BorderCollie(Dog):\n",
    "    def run(self, speed):\n",
    "        return \"{} runs{}\" .format(self.name, speed)\n",
    "    \n",
    "# child class (inherits from Dog() class)\n",
    "class SiberianHusky(Dog):\n",
    "    def run(self, speed):\n",
    "        return \"{} runs {}\" .format(self.name, speed)\n",
    "    \n",
    "# child classes inherit attributes and\n",
    "# behaviors from parent class\n",
    "shadow = SiberianHusky(\"shadow\", 13)\n",
    "print(shadow.description())\n",
    "\n",
    "print(shadow.run(\"slowly\"))\n",
    "\n",
    "# is shadow an instance of Dog()?\n",
    "print(isinstance(shadow, Dog))\n",
    "\n",
    "# is duke an instance of Dog()?\n",
    "duke = Dog(\"duke\", 90)\n",
    "print(isinstance(duke, Dog))\n",
    "\n",
    "# Is Phillip an instance of siberian husky()\n",
    "phillip = BorderCollie(\"phillip\", 2)\n",
    "print(isinstance(phillip, SiberianHusky))\n",
    "\n",
    "# is duke an instance of shadow?\n",
    "print(isinstance(duke,shadow))"
   ]
  },
  {
   "cell_type": "code",
   "execution_count": 137,
   "metadata": {},
   "outputs": [],
   "source": [
    "# Task 3"
   ]
  },
  {
   "cell_type": "code",
   "execution_count": 139,
   "metadata": {},
   "outputs": [],
   "source": [
    "# Task 4 "
   ]
  },
  {
   "cell_type": "code",
   "execution_count": 151,
   "metadata": {},
   "outputs": [],
   "source": [
    "# Task 5\n",
    "# Creating a decorator function\n",
    "\n",
    "def hello_decorator(func):\n",
    "    def inner1():\n",
    "        print(\"Hi, this is before function execution.\")\n",
    "        \n",
    "        # calling the function\n",
    "        func()\n",
    "        \n",
    "        print(\"This is after function execution.\")\n",
    "        \n",
    "    return inner1   "
   ]
  },
  {
   "cell_type": "code",
   "execution_count": 152,
   "metadata": {},
   "outputs": [],
   "source": [
    "def function_to_be_used():\n",
    "    print(\"This is inside the function.\")"
   ]
  },
  {
   "cell_type": "code",
   "execution_count": 153,
   "metadata": {},
   "outputs": [],
   "source": [
    "function_to_be_used = hello_decorator(function_to_be_used)"
   ]
  },
  {
   "cell_type": "code",
   "execution_count": 154,
   "metadata": {},
   "outputs": [
    {
     "name": "stdout",
     "output_type": "stream",
     "text": [
      "Hi, this is before function execution.\n",
      "This is inside the function.\n",
      "This is after function execution.\n"
     ]
    }
   ],
   "source": [
    "function_to_be_used()"
   ]
  },
  {
   "cell_type": "code",
   "execution_count": 155,
   "metadata": {},
   "outputs": [],
   "source": [
    "# Task 6\n",
    "\n",
    "def addition(n):\n",
    "    return n + n"
   ]
  },
  {
   "cell_type": "code",
   "execution_count": null,
   "metadata": {},
   "outputs": [],
   "source": [
    "# Task 7"
   ]
  }
 ],
 "metadata": {
  "kernelspec": {
   "display_name": "Python 3",
   "language": "python",
   "name": "python3"
  },
  "language_info": {
   "codemirror_mode": {
    "name": "ipython",
    "version": 3
   },
   "file_extension": ".py",
   "mimetype": "text/x-python",
   "name": "python",
   "nbconvert_exporter": "python",
   "pygments_lexer": "ipython3",
   "version": "3.7.3"
  }
 },
 "nbformat": 4,
 "nbformat_minor": 2
}
